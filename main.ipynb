{
 "cells": [
  {
   "cell_type": "code",
   "execution_count": 1,
   "id": "a8f39fb7-2c0c-4075-bf6a-0f6ccaef6b8f",
   "metadata": {},
   "outputs": [],
   "source": [
    "%load_ext autoreload\n",
    "%autoreload 2"
   ]
  },
  {
   "cell_type": "code",
   "execution_count": 2,
   "id": "ad92668d-4e49-4d7f-99a7-a3890bc039fc",
   "metadata": {},
   "outputs": [],
   "source": [
    "import pandas as pd\n",
    "import numpy as np\n",
    "import geopandas as gpd\n",
    "from qr_code import QR_CODE, get_compact"
   ]
  },
  {
   "cell_type": "code",
   "execution_count": null,
   "id": "f89bca93-594c-4646-aafa-4539bb2b887b",
   "metadata": {},
   "outputs": [],
   "source": []
  },
  {
   "cell_type": "code",
   "execution_count": 3,
   "id": "db4efc02-8293-47ab-b12c-2f49099218d6",
   "metadata": {},
   "outputs": [],
   "source": [
    "def print_grid(arr):\n",
    "    black_square = \"█\"       # U+2B1B - BLACK LARGE SQUARE\n",
    "    white_square = \" \"       # U+2B1C - WHITE LARGE SQUARE\n",
    "    \n",
    "    return [''.join(np.where(row, black_square, white_square)) for row in arr]"
   ]
  },
  {
   "cell_type": "code",
   "execution_count": null,
   "id": "ca01625c-82c4-49b3-a259-8be0285b7a1e",
   "metadata": {},
   "outputs": [],
   "source": []
  },
  {
   "cell_type": "markdown",
   "id": "6969c310-8160-47b4-bedf-08680cdde5fc",
   "metadata": {},
   "source": [
    "## Load"
   ]
  },
  {
   "cell_type": "code",
   "execution_count": 4,
   "id": "41ad0dc1-3221-48d1-b9af-1ce959d39d67",
   "metadata": {},
   "outputs": [],
   "source": [
    "gdf = gpd.read_file('data/grid.geojson')"
   ]
  },
  {
   "cell_type": "code",
   "execution_count": 5,
   "id": "eaab48e5-7f65-4644-95bd-8e0e3558031b",
   "metadata": {},
   "outputs": [],
   "source": [
    "gdf[\"fill\"] = False\n",
    "gdf[\"isqr\"] = False"
   ]
  },
  {
   "cell_type": "code",
   "execution_count": 6,
   "id": "9e0c1150-dff4-4d37-863e-a4392d6e2c41",
   "metadata": {},
   "outputs": [
    {
     "data": {
      "text/html": [
       "<div>\n",
       "<style scoped>\n",
       "    .dataframe tbody tr th:only-of-type {\n",
       "        vertical-align: middle;\n",
       "    }\n",
       "\n",
       "    .dataframe tbody tr th {\n",
       "        vertical-align: top;\n",
       "    }\n",
       "\n",
       "    .dataframe thead th {\n",
       "        text-align: right;\n",
       "    }\n",
       "</style>\n",
       "<table border=\"1\" class=\"dataframe\">\n",
       "  <thead>\n",
       "    <tr style=\"text-align: right;\">\n",
       "      <th></th>\n",
       "      <th>id</th>\n",
       "      <th>left</th>\n",
       "      <th>top</th>\n",
       "      <th>right</th>\n",
       "      <th>bottom</th>\n",
       "      <th>row_index</th>\n",
       "      <th>col_index</th>\n",
       "      <th>centroid_x</th>\n",
       "      <th>centroid_y</th>\n",
       "      <th>geometry</th>\n",
       "      <th>fill</th>\n",
       "      <th>isqr</th>\n",
       "    </tr>\n",
       "  </thead>\n",
       "  <tbody>\n",
       "    <tr>\n",
       "      <th>0</th>\n",
       "      <td>1</td>\n",
       "      <td>227964.3725</td>\n",
       "      <td>907580.0846</td>\n",
       "      <td>228064.3725</td>\n",
       "      <td>907480.0846</td>\n",
       "      <td>0</td>\n",
       "      <td>0</td>\n",
       "      <td>228014.3725</td>\n",
       "      <td>907530.085</td>\n",
       "      <td>POLYGON ((227964.372 907580.085, 228064.372 90...</td>\n",
       "      <td>False</td>\n",
       "      <td>False</td>\n",
       "    </tr>\n",
       "    <tr>\n",
       "      <th>1</th>\n",
       "      <td>2</td>\n",
       "      <td>227964.3725</td>\n",
       "      <td>907480.0846</td>\n",
       "      <td>228064.3725</td>\n",
       "      <td>907380.0846</td>\n",
       "      <td>1</td>\n",
       "      <td>0</td>\n",
       "      <td>228014.3725</td>\n",
       "      <td>907430.085</td>\n",
       "      <td>POLYGON ((227964.372 907480.085, 228064.372 90...</td>\n",
       "      <td>False</td>\n",
       "      <td>False</td>\n",
       "    </tr>\n",
       "    <tr>\n",
       "      <th>2</th>\n",
       "      <td>3</td>\n",
       "      <td>227964.3725</td>\n",
       "      <td>907380.0846</td>\n",
       "      <td>228064.3725</td>\n",
       "      <td>907280.0846</td>\n",
       "      <td>2</td>\n",
       "      <td>0</td>\n",
       "      <td>228014.3725</td>\n",
       "      <td>907330.085</td>\n",
       "      <td>POLYGON ((227964.372 907380.085, 228064.372 90...</td>\n",
       "      <td>False</td>\n",
       "      <td>False</td>\n",
       "    </tr>\n",
       "    <tr>\n",
       "      <th>3</th>\n",
       "      <td>4</td>\n",
       "      <td>227964.3725</td>\n",
       "      <td>907280.0846</td>\n",
       "      <td>228064.3725</td>\n",
       "      <td>907180.0846</td>\n",
       "      <td>3</td>\n",
       "      <td>0</td>\n",
       "      <td>228014.3725</td>\n",
       "      <td>907230.085</td>\n",
       "      <td>POLYGON ((227964.372 907280.085, 228064.372 90...</td>\n",
       "      <td>False</td>\n",
       "      <td>False</td>\n",
       "    </tr>\n",
       "    <tr>\n",
       "      <th>4</th>\n",
       "      <td>5</td>\n",
       "      <td>227964.3725</td>\n",
       "      <td>907180.0846</td>\n",
       "      <td>228064.3725</td>\n",
       "      <td>907080.0846</td>\n",
       "      <td>4</td>\n",
       "      <td>0</td>\n",
       "      <td>228014.3725</td>\n",
       "      <td>907130.085</td>\n",
       "      <td>POLYGON ((227964.372 907180.085, 228064.372 90...</td>\n",
       "      <td>False</td>\n",
       "      <td>False</td>\n",
       "    </tr>\n",
       "    <tr>\n",
       "      <th>...</th>\n",
       "      <td>...</td>\n",
       "      <td>...</td>\n",
       "      <td>...</td>\n",
       "      <td>...</td>\n",
       "      <td>...</td>\n",
       "      <td>...</td>\n",
       "      <td>...</td>\n",
       "      <td>...</td>\n",
       "      <td>...</td>\n",
       "      <td>...</td>\n",
       "      <td>...</td>\n",
       "      <td>...</td>\n",
       "    </tr>\n",
       "    <tr>\n",
       "      <th>5835</th>\n",
       "      <td>5836</td>\n",
       "      <td>235864.3725</td>\n",
       "      <td>900780.0846</td>\n",
       "      <td>235964.3725</td>\n",
       "      <td>900680.0846</td>\n",
       "      <td>68</td>\n",
       "      <td>79</td>\n",
       "      <td>235914.3725</td>\n",
       "      <td>900730.085</td>\n",
       "      <td>POLYGON ((235864.372 900780.085, 235964.372 90...</td>\n",
       "      <td>False</td>\n",
       "      <td>False</td>\n",
       "    </tr>\n",
       "    <tr>\n",
       "      <th>5836</th>\n",
       "      <td>5837</td>\n",
       "      <td>235864.3725</td>\n",
       "      <td>900680.0846</td>\n",
       "      <td>235964.3725</td>\n",
       "      <td>900580.0846</td>\n",
       "      <td>69</td>\n",
       "      <td>79</td>\n",
       "      <td>235914.3725</td>\n",
       "      <td>900630.085</td>\n",
       "      <td>POLYGON ((235864.372 900680.085, 235964.372 90...</td>\n",
       "      <td>False</td>\n",
       "      <td>False</td>\n",
       "    </tr>\n",
       "    <tr>\n",
       "      <th>5837</th>\n",
       "      <td>5838</td>\n",
       "      <td>235864.3725</td>\n",
       "      <td>900580.0846</td>\n",
       "      <td>235964.3725</td>\n",
       "      <td>900480.0846</td>\n",
       "      <td>70</td>\n",
       "      <td>79</td>\n",
       "      <td>235914.3725</td>\n",
       "      <td>900530.085</td>\n",
       "      <td>POLYGON ((235864.372 900580.085, 235964.372 90...</td>\n",
       "      <td>False</td>\n",
       "      <td>False</td>\n",
       "    </tr>\n",
       "    <tr>\n",
       "      <th>5838</th>\n",
       "      <td>5839</td>\n",
       "      <td>235864.3725</td>\n",
       "      <td>900480.0846</td>\n",
       "      <td>235964.3725</td>\n",
       "      <td>900380.0846</td>\n",
       "      <td>71</td>\n",
       "      <td>79</td>\n",
       "      <td>235914.3725</td>\n",
       "      <td>900430.085</td>\n",
       "      <td>POLYGON ((235864.372 900480.085, 235964.372 90...</td>\n",
       "      <td>False</td>\n",
       "      <td>False</td>\n",
       "    </tr>\n",
       "    <tr>\n",
       "      <th>5839</th>\n",
       "      <td>5840</td>\n",
       "      <td>235864.3725</td>\n",
       "      <td>900380.0846</td>\n",
       "      <td>235964.3725</td>\n",
       "      <td>900280.0846</td>\n",
       "      <td>72</td>\n",
       "      <td>79</td>\n",
       "      <td>235914.3725</td>\n",
       "      <td>900330.085</td>\n",
       "      <td>POLYGON ((235864.372 900380.085, 235964.372 90...</td>\n",
       "      <td>False</td>\n",
       "      <td>False</td>\n",
       "    </tr>\n",
       "  </tbody>\n",
       "</table>\n",
       "<p>5840 rows × 12 columns</p>\n",
       "</div>"
      ],
      "text/plain": [
       "        id         left          top        right       bottom  row_index  \\\n",
       "0        1  227964.3725  907580.0846  228064.3725  907480.0846          0   \n",
       "1        2  227964.3725  907480.0846  228064.3725  907380.0846          1   \n",
       "2        3  227964.3725  907380.0846  228064.3725  907280.0846          2   \n",
       "3        4  227964.3725  907280.0846  228064.3725  907180.0846          3   \n",
       "4        5  227964.3725  907180.0846  228064.3725  907080.0846          4   \n",
       "...    ...          ...          ...          ...          ...        ...   \n",
       "5835  5836  235864.3725  900780.0846  235964.3725  900680.0846         68   \n",
       "5836  5837  235864.3725  900680.0846  235964.3725  900580.0846         69   \n",
       "5837  5838  235864.3725  900580.0846  235964.3725  900480.0846         70   \n",
       "5838  5839  235864.3725  900480.0846  235964.3725  900380.0846         71   \n",
       "5839  5840  235864.3725  900380.0846  235964.3725  900280.0846         72   \n",
       "\n",
       "      col_index   centroid_x  centroid_y  \\\n",
       "0             0  228014.3725  907530.085   \n",
       "1             0  228014.3725  907430.085   \n",
       "2             0  228014.3725  907330.085   \n",
       "3             0  228014.3725  907230.085   \n",
       "4             0  228014.3725  907130.085   \n",
       "...         ...          ...         ...   \n",
       "5835         79  235914.3725  900730.085   \n",
       "5836         79  235914.3725  900630.085   \n",
       "5837         79  235914.3725  900530.085   \n",
       "5838         79  235914.3725  900430.085   \n",
       "5839         79  235914.3725  900330.085   \n",
       "\n",
       "                                               geometry   fill   isqr  \n",
       "0     POLYGON ((227964.372 907580.085, 228064.372 90...  False  False  \n",
       "1     POLYGON ((227964.372 907480.085, 228064.372 90...  False  False  \n",
       "2     POLYGON ((227964.372 907380.085, 228064.372 90...  False  False  \n",
       "3     POLYGON ((227964.372 907280.085, 228064.372 90...  False  False  \n",
       "4     POLYGON ((227964.372 907180.085, 228064.372 90...  False  False  \n",
       "...                                                 ...    ...    ...  \n",
       "5835  POLYGON ((235864.372 900780.085, 235964.372 90...  False  False  \n",
       "5836  POLYGON ((235864.372 900680.085, 235964.372 90...  False  False  \n",
       "5837  POLYGON ((235864.372 900580.085, 235964.372 90...  False  False  \n",
       "5838  POLYGON ((235864.372 900480.085, 235964.372 90...  False  False  \n",
       "5839  POLYGON ((235864.372 900380.085, 235964.372 90...  False  False  \n",
       "\n",
       "[5840 rows x 12 columns]"
      ]
     },
     "execution_count": 6,
     "metadata": {},
     "output_type": "execute_result"
    }
   ],
   "source": [
    "gdf"
   ]
  },
  {
   "cell_type": "markdown",
   "id": "96e817c0-50f9-4114-9bd5-5239223a3ba1",
   "metadata": {},
   "source": [
    "## Reshape grid"
   ]
  },
  {
   "cell_type": "code",
   "execution_count": 7,
   "id": "0142d623-3630-451f-899a-7e86375a85f3",
   "metadata": {},
   "outputs": [],
   "source": [
    "fill_array = gdf['fill'].values.reshape(80, 73).T\n",
    "isqr_array = gdf['isqr'].values.reshape(80, 73).T"
   ]
  },
  {
   "cell_type": "code",
   "execution_count": null,
   "id": "0a69dc66-1d0c-4da1-8349-bf71eee54bf6",
   "metadata": {},
   "outputs": [],
   "source": []
  },
  {
   "cell_type": "code",
   "execution_count": 8,
   "id": "fdc6aab6-2d65-4257-853b-65569ca8ab54",
   "metadata": {},
   "outputs": [],
   "source": [
    "# len(gdf)/52"
   ]
  },
  {
   "cell_type": "code",
   "execution_count": 9,
   "id": "7df39687-9496-4db7-8237-ebb0aca93337",
   "metadata": {},
   "outputs": [],
   "source": [
    "# gdf['row_index'].max()"
   ]
  },
  {
   "cell_type": "code",
   "execution_count": 10,
   "id": "c3be2ca1-b3a7-4aa9-832e-c5c8e667caaa",
   "metadata": {},
   "outputs": [],
   "source": [
    "# gdf['col_index'].max()"
   ]
  },
  {
   "cell_type": "code",
   "execution_count": null,
   "id": "8d0512e2-3b08-4657-977d-1f4c475c576d",
   "metadata": {},
   "outputs": [],
   "source": []
  },
  {
   "cell_type": "markdown",
   "id": "389c2bc2-3035-4195-91fd-d556f9e07ddb",
   "metadata": {},
   "source": [
    "## Place QR code inside grid"
   ]
  },
  {
   "cell_type": "code",
   "execution_count": 16,
   "id": "e5c626eb-ae6c-4110-b7dc-8aa59e40b6bf",
   "metadata": {},
   "outputs": [],
   "source": [
    "# bool_array = gdf['fill'].values.reshape(80, 73).T"
   ]
  },
  {
   "cell_type": "code",
   "execution_count": null,
   "id": "1b308850-6ade-470d-958a-ccb016106909",
   "metadata": {},
   "outputs": [],
   "source": []
  },
  {
   "cell_type": "code",
   "execution_count": 16,
   "id": "93bb2536-4851-4717-9847-7ea72bd3c4b0",
   "metadata": {},
   "outputs": [
    {
     "data": {
      "text/plain": [
       "(25, 25)"
      ]
     },
     "execution_count": 16,
     "metadata": {},
     "output_type": "execute_result"
    }
   ],
   "source": [
    "qr_arr = get_compact(QR_CODE)\n",
    "qr_arr.shape"
   ]
  },
  {
   "cell_type": "code",
   "execution_count": 28,
   "id": "1795d125-5798-4038-a196-f6ea9f7de077",
   "metadata": {},
   "outputs": [],
   "source": [
    "# make array same size as qr_arr but all True\n",
    "qr_size_arr = np.ones_like(qr_arr, dtype=bool)"
   ]
  },
  {
   "cell_type": "code",
   "execution_count": 29,
   "id": "4220b2d6-d75d-48f5-bdf2-7a174525fa09",
   "metadata": {},
   "outputs": [],
   "source": [
    "# add qr code to fill_array\n",
    "start_row, start_col = 30, 40  # example coordinates\n",
    "fill_array[start_row:start_row+25, start_col:start_col+25] = qr_arr\n",
    "fill_array[start_row:start_row+25, start_col:start_col+25] = qr_arr"
   ]
  },
  {
   "cell_type": "code",
   "execution_count": 30,
   "id": "48a41bd8-6b2b-4639-9c60-86fa87bedbfe",
   "metadata": {},
   "outputs": [],
   "source": [
    "# add qr_size_arr to isqr_array\n",
    "start_row, start_col = 30, 40  # example coordinates\n",
    "isqr_array[start_row:start_row+25, start_col:start_col+25] = qr_size_arr\n",
    "isqr_array[start_row:start_row+25, start_col:start_col+25] = qr_size_arr"
   ]
  },
  {
   "cell_type": "code",
   "execution_count": 31,
   "id": "b7e54849-6382-463e-99b3-44939cf754e8",
   "metadata": {
    "scrolled": true
   },
   "outputs": [],
   "source": [
    "# print_grid(fill_array)"
   ]
  },
  {
   "cell_type": "code",
   "execution_count": 32,
   "id": "ea1ebf1c-2bbf-4b3e-9bf2-4144c983ecc4",
   "metadata": {},
   "outputs": [],
   "source": [
    "# print_grid(isqr_array)"
   ]
  },
  {
   "cell_type": "markdown",
   "id": "cee50418-7862-40bf-b094-89b0545516b3",
   "metadata": {},
   "source": [
    "## Un-reshape"
   ]
  },
  {
   "cell_type": "code",
   "execution_count": 35,
   "id": "64e6ac32-cbf8-4788-b8ef-a823df9c9428",
   "metadata": {},
   "outputs": [],
   "source": [
    "gdf['fill'] = fill_array.T.flatten()\n",
    "gdf['isqr'] = isqr_array.T.flatten()"
   ]
  },
  {
   "cell_type": "code",
   "execution_count": 37,
   "id": "3928b787-38cb-42c8-86d9-2c408dd7e999",
   "metadata": {
    "scrolled": true
   },
   "outputs": [],
   "source": [
    "# gdf"
   ]
  },
  {
   "cell_type": "code",
   "execution_count": 39,
   "id": "f0edd617-f221-4756-a4d8-dc095ac325b6",
   "metadata": {},
   "outputs": [],
   "source": [
    "gdf.to_file('out/output.geojson', driver='GeoJSON')"
   ]
  },
  {
   "cell_type": "code",
   "execution_count": null,
   "id": "d5446afe-7847-46cd-a652-80a94b179f5a",
   "metadata": {},
   "outputs": [],
   "source": []
  },
  {
   "cell_type": "code",
   "execution_count": null,
   "id": "5324fa31-5852-456f-86f1-45ff9a5de701",
   "metadata": {},
   "outputs": [],
   "source": []
  },
  {
   "cell_type": "code",
   "execution_count": null,
   "id": "0e42d5dd-6d64-4893-a8a2-3af584fa0330",
   "metadata": {},
   "outputs": [],
   "source": []
  },
  {
   "cell_type": "code",
   "execution_count": null,
   "id": "fefd8b35-a452-4576-92cd-6c58b495f162",
   "metadata": {},
   "outputs": [],
   "source": []
  },
  {
   "cell_type": "code",
   "execution_count": null,
   "id": "6587fc74-a29c-4c85-bd58-d90e49e6217e",
   "metadata": {},
   "outputs": [],
   "source": []
  }
 ],
 "metadata": {
  "kernelspec": {
   "display_name": "Python 3 (ipykernel)",
   "language": "python",
   "name": "python3"
  },
  "language_info": {
   "codemirror_mode": {
    "name": "ipython",
    "version": 3
   },
   "file_extension": ".py",
   "mimetype": "text/x-python",
   "name": "python",
   "nbconvert_exporter": "python",
   "pygments_lexer": "ipython3",
   "version": "3.13.1"
  }
 },
 "nbformat": 4,
 "nbformat_minor": 5
}
