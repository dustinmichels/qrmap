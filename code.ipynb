{
 "cells": [
  {
   "cell_type": "code",
   "execution_count": 21,
   "id": "1f85e303-c2cb-480a-9392-87460ef1905d",
   "metadata": {},
   "outputs": [],
   "source": [
    "import numpy as np"
   ]
  },
  {
   "cell_type": "markdown",
   "id": "0bc4fedf-de9a-4ffb-a4b1-7b9bde647883",
   "metadata": {},
   "source": [
    "```\n",
    "brew install qrencode\n",
    "```"
   ]
  },
  {
   "cell_type": "code",
   "execution_count": 17,
   "id": "086d0706-2d79-4b3a-ac1a-f31c99e009af",
   "metadata": {},
   "outputs": [
    {
     "name": "stdout",
     "output_type": "stream",
     "text": [
      "                                                                  \n",
      "                                                                  \n",
      "                                                                  \n",
      "                                                                  \n",
      "        ##############  ########    ##  ##  ##############        \n",
      "        ##          ##        ####      ##  ##          ##        \n",
      "        ##  ######  ##    ##  ##  ##  ##    ##  ######  ##        \n",
      "        ##  ######  ##      ########    ##  ##  ######  ##        \n",
      "        ##  ######  ##      ######  ##  ##  ##  ######  ##        \n",
      "        ##          ##    ##  ######    ##  ##          ##        \n",
      "        ##############  ##  ##  ##  ##  ##  ##############        \n",
      "                        ####    ####                              \n",
      "        ####  ####  ##    ##        ##  ##  ##          ##        \n",
      "          ####  ##      ##  ####  ######  ##  ##########          \n",
      "          ##        ##  ####  ##    ####    ##  ####    ##        \n",
      "        ####            ##    ####  ##      ####  ########        \n",
      "                ##  ##  ##########    ##    ####        ##        \n",
      "        ##  ##    ##  ####  ####  ##  ######    ##    ##          \n",
      "        ####    ######            ########  ##  ##########        \n",
      "        ##      ####  ########      ####  ##  ##  ####  ##        \n",
      "        ##  ##  ######    ##    ####    ##########  ####          \n",
      "                        ##        ####  ##      ##  ####          \n",
      "        ##############    ############  ##  ##  ##      ##        \n",
      "        ##          ##    ##  ######  ####      ##      ##        \n",
      "        ##  ######  ##  ##            ############    ##          \n",
      "        ##  ######  ##  ##  ####  ############        ####        \n",
      "        ##  ######  ##    ######  ##  ####      ##########        \n",
      "        ##          ##  ####  ####  ##      ######  ######        \n",
      "        ##############  ##  ####        ######    ##    ##        \n",
      "                                                                  \n",
      "                                                                  \n",
      "                                                                  \n",
      "                                                                  \n"
     ]
    }
   ],
   "source": [
    "# ! qrencode -t ASCII \"https://dustinmichels.com/qrmap\"\n",
    "! qrencode -t ASCII \"https://dustinthe.city/qrmap\""
   ]
  },
  {
   "cell_type": "code",
   "execution_count": 16,
   "id": "f441e29b-afc7-4387-bc92-87274b2c7527",
   "metadata": {},
   "outputs": [],
   "source": [
    "code = \"\"\"\n",
    "        ##############      ####  ######    ##############\n",
    "        ##          ##  ##########    ##    ##          ##\n",
    "        ##  ######  ##  ##    ##      ####  ##  ######  ##\n",
    "        ##  ######  ##      ##      ####    ##  ######  ##\n",
    "        ##  ######  ##  ##  ####  ########  ##  ######  ##\n",
    "        ##          ##  ####      ##  ####  ##          ##\n",
    "        ##############  ##  ##  ##  ##  ##  ##############\n",
    "                        ######      ######\n",
    "        ####  ##    ####    ####  ########  ######  ####\n",
    "        ############  ####      ##      ##  ##          ##\n",
    "            ##    ####    ####    ##    ##########    ####\n",
    "              ######  ##          ##########    ##\n",
    "          ######    ##  ##        ##  ########    ##  ####\n",
    "            ##  ##    ##  ####  ##  ##      ####  ####  ##\n",
    "        ##    ##  ####  ##    ##  ##    ##########  ##  ##\n",
    "          ##  ######  ######    ######  ##  ##  ##    ##\n",
    "        ####      ####        ####  ##################\n",
    "                        ########    ######      ####    ##\n",
    "        ##############  ##  ##    ##  ####  ##  ####  ####\n",
    "        ##          ##        ####      ##      ######  ##\n",
    "        ##  ######  ##          ######  ############\n",
    "        ##  ######  ##  ##  ##  ####          ########\n",
    "        ##  ######  ##              ##  ####  ####  ##  ##\n",
    "        ##          ##  ##  ########  ######      ##\n",
    "        ##############  ##  ########  ####  ####      ####\n",
    "\"\"\""
   ]
  },
  {
   "cell_type": "code",
   "execution_count": 42,
   "id": "53a1a40c-20d3-4060-8193-e02c98585ee8",
   "metadata": {},
   "outputs": [],
   "source": [
    "# remove first and last empty rows\n",
    "arr = code.split(\"\\n\")[1:-1]\n",
    "\n",
    "# remove leading 8 spaces\n",
    "arr = [x[8:] for x in arr]\n",
    "\n",
    "# pad end of lines if needed for constant width\n",
    "arr = [x.ljust(50) for x in arr]"
   ]
  },
  {
   "cell_type": "code",
   "execution_count": 43,
   "id": "db5003dd-ddde-43e0-b932-981229dc2a4d",
   "metadata": {},
   "outputs": [
    {
     "data": {
      "text/plain": [
       "['##############      ####  ######    ##############',\n",
       " '##          ##  ##########    ##    ##          ##',\n",
       " '##  ######  ##  ##    ##      ####  ##  ######  ##',\n",
       " '##  ######  ##      ##      ####    ##  ######  ##',\n",
       " '##  ######  ##  ##  ####  ########  ##  ######  ##',\n",
       " '##          ##  ####      ##  ####  ##          ##',\n",
       " '##############  ##  ##  ##  ##  ##  ##############',\n",
       " '                ######      ######                ',\n",
       " '####  ##    ####    ####  ########  ######  ####  ',\n",
       " '############  ####      ##      ##  ##          ##',\n",
       " '    ##    ####    ####    ##    ##########    ####',\n",
       " '      ######  ##          ##########    ##        ',\n",
       " '  ######    ##  ##        ##  ########    ##  ####',\n",
       " '    ##  ##    ##  ####  ##  ##      ####  ####  ##',\n",
       " '##    ##  ####  ##    ##  ##    ##########  ##  ##',\n",
       " '  ##  ######  ######    ######  ##  ##  ##    ##  ',\n",
       " '####      ####        ####  ##################    ',\n",
       " '                ########    ######      ####    ##',\n",
       " '##############  ##  ##    ##  ####  ##  ####  ####',\n",
       " '##          ##        ####      ##      ######  ##',\n",
       " '##  ######  ##          ######  ############      ',\n",
       " '##  ######  ##  ##  ##  ####          ########    ',\n",
       " '##  ######  ##              ##  ####  ####  ##  ##',\n",
       " '##          ##  ##  ########  ######      ##      ',\n",
       " '##############  ##  ########  ####  ####      ####']"
      ]
     },
     "execution_count": 43,
     "metadata": {},
     "output_type": "execute_result"
    }
   ],
   "source": [
    "arr"
   ]
  },
  {
   "cell_type": "code",
   "execution_count": 44,
   "id": "eab2ce05-668b-40e0-9514-f611385b87af",
   "metadata": {},
   "outputs": [],
   "source": []
  },
  {
   "cell_type": "code",
   "execution_count": 23,
   "id": "ac0452ae-0bd4-4c5c-96fb-829616fd1924",
   "metadata": {},
   "outputs": [],
   "source": [
    "# print\n",
    "\n",
    "# black_square = \"■\"      # U+25A0 - BLACK SQUARE\n",
    "# white_square = \"□\"      # U+25A1 - WHITE SQUARE\n",
    "\n",
    "black_square = \"█\"       # U+2B1B - BLACK LARGE SQUARE\n",
    "white_square = \" \"       # U+2B1C - WHITE LARGE SQUARE"
   ]
  },
  {
   "cell_type": "code",
   "execution_count": 24,
   "id": "6aa44860-a8f9-4059-a04a-baf1e0b02c50",
   "metadata": {},
   "outputs": [
    {
     "data": {
      "text/plain": [
       "['██████████████      ████  ██████    ██████████████',\n",
       " '██          ██  ██████████    ██    ██          ██',\n",
       " '██  ██████  ██  ██    ██      ████  ██  ██████  ██',\n",
       " '██  ██████  ██      ██      ████    ██  ██████  ██',\n",
       " '██  ██████  ██  ██  ████  ████████  ██  ██████  ██',\n",
       " '██          ██  ████      ██  ████  ██          ██',\n",
       " '██████████████  ██  ██  ██  ██  ██  ██████████████',\n",
       " '                ██████      ██████                ',\n",
       " '████  ██    ████    ████  ████████  ██████  ████  ',\n",
       " '████████████  ████      ██      ██  ██          ██',\n",
       " '    ██    ████    ████    ██    ██████████    ████',\n",
       " '      ██████  ██          ██████████    ██        ',\n",
       " '  ██████    ██  ██        ██  ████████    ██  ████',\n",
       " '    ██  ██    ██  ████  ██  ██      ████  ████  ██',\n",
       " '██    ██  ████  ██    ██  ██    ██████████  ██  ██',\n",
       " '  ██  ██████  ██████    ██████  ██  ██  ██    ██  ',\n",
       " '████      ████        ████  ██████████████████    ',\n",
       " '                ████████    ██████      ████    ██',\n",
       " '██████████████  ██  ██    ██  ████  ██  ████  ████',\n",
       " '██          ██        ████      ██      ██████  ██',\n",
       " '██  ██████  ██          ██████  ████████████      ',\n",
       " '██  ██████  ██  ██  ██  ████          ████████    ',\n",
       " '██  ██████  ██              ██  ████  ████  ██  ██',\n",
       " '██          ██  ██  ████████  ██████      ██      ',\n",
       " '██████████████  ██  ████████  ████  ████      ████']"
      ]
     },
     "execution_count": 24,
     "metadata": {},
     "output_type": "execute_result"
    }
   ],
   "source": [
    "[x.replace(\"#\", black_square).replace(\" \", white_square) for x in arr]"
   ]
  },
  {
   "cell_type": "code",
   "execution_count": null,
   "id": "ac2eef83-e4e4-4d77-b073-fda262baf769",
   "metadata": {},
   "outputs": [],
   "source": []
  },
  {
   "cell_type": "code",
   "execution_count": 65,
   "id": "ff467cab-bd0d-482d-8160-0b72fc02d859",
   "metadata": {},
   "outputs": [],
   "source": [
    "# compact\n",
    "\n",
    "arr_compact = [x.replace(\"##\", \"#\").replace(\"  \", \" \") for x in arr]"
   ]
  },
  {
   "cell_type": "code",
   "execution_count": null,
   "id": "c86d5fb4-8284-40c8-b7c9-a1b4646a8fde",
   "metadata": {},
   "outputs": [],
   "source": []
  },
  {
   "cell_type": "code",
   "execution_count": 59,
   "id": "e9ca3adf-9188-4854-a1f4-60b2597631d2",
   "metadata": {},
   "outputs": [],
   "source": [
    "bool_array = np.array([[char == '#' for char in row] for row in arr_compact])"
   ]
  },
  {
   "cell_type": "code",
   "execution_count": 63,
   "id": "f4383338-58dd-485e-bb08-ad970092fc2b",
   "metadata": {},
   "outputs": [
    {
     "data": {
      "text/plain": [
       "(25, 25)"
      ]
     },
     "execution_count": 63,
     "metadata": {},
     "output_type": "execute_result"
    }
   ],
   "source": [
    "bool_array.shape"
   ]
  },
  {
   "cell_type": "code",
   "execution_count": 64,
   "id": "19f57774-a0ae-4bd6-8b56-8d2c7b5483c7",
   "metadata": {},
   "outputs": [
    {
     "data": {
      "text/plain": [
       "(25, 25)"
      ]
     },
     "execution_count": 64,
     "metadata": {},
     "output_type": "execute_result"
    }
   ],
   "source": [
    "bool_array.shape"
   ]
  },
  {
   "cell_type": "code",
   "execution_count": null,
   "id": "9f816beb-92c4-47bf-b5d8-8a04e9d04426",
   "metadata": {},
   "outputs": [],
   "source": []
  }
 ],
 "metadata": {
  "kernelspec": {
   "display_name": "Python 3 (ipykernel)",
   "language": "python",
   "name": "python3"
  },
  "language_info": {
   "codemirror_mode": {
    "name": "ipython",
    "version": 3
   },
   "file_extension": ".py",
   "mimetype": "text/x-python",
   "name": "python",
   "nbconvert_exporter": "python",
   "pygments_lexer": "ipython3",
   "version": "3.13.1"
  }
 },
 "nbformat": 4,
 "nbformat_minor": 5
}
