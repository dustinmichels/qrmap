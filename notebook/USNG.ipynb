{
 "cells": [
  {
   "cell_type": "code",
   "execution_count": null,
   "id": "18099359-3534-479e-a16e-4d358fb2a76a",
   "metadata": {},
   "outputs": [],
   "source": [
    "%load_ext autoreload\n",
    "%autoreload 2"
   ]
  },
  {
   "cell_type": "code",
   "execution_count": null,
   "id": "f5502db6-08d3-4271-95a3-b5c96870a644",
   "metadata": {},
   "outputs": [],
   "source": [
    "import sys; sys.path.insert(0, '..')"
   ]
  },
  {
   "cell_type": "code",
   "execution_count": null,
   "id": "6042e6f4-59d8-4666-9e44-bd988205f72f",
   "metadata": {},
   "outputs": [],
   "source": [
    "import pandas as pd\n",
    "import numpy as np\n",
    "import geopandas as gpd\n",
    "from qr_code import QR_CODE, get_compact"
   ]
  },
  {
   "cell_type": "code",
   "execution_count": null,
   "id": "04448e07-7087-423f-a859-4440c377aa1b",
   "metadata": {},
   "outputs": [],
   "source": [
    "def print_grid(arr):\n",
    "    black_square = \"█\"       # U+2B1B - BLACK LARGE SQUARE\n",
    "    white_square = \" \"       # U+2B1C - WHITE LARGE SQUARE\n",
    "    return [''.join(np.where(row, black_square, white_square)) for row in arr]"
   ]
  },
  {
   "cell_type": "code",
   "execution_count": null,
   "id": "f7e833a9-b61d-404b-80b9-1851d9fa58be",
   "metadata": {},
   "outputs": [],
   "source": []
  },
  {
   "cell_type": "markdown",
   "id": "b8ad991c-568b-4183-9784-bab36c4d3b19",
   "metadata": {},
   "source": [
    "## Load File"
   ]
  },
  {
   "cell_type": "markdown",
   "id": "c647f10a-fba8-41c2-b51a-d14d31d4b444",
   "metadata": {},
   "source": [
    "See what cells of USNG intersect with Camberville"
   ]
  },
  {
   "cell_type": "code",
   "execution_count": null,
   "id": "a11b2701-59b8-47f1-9ac9-283f1df2beec",
   "metadata": {},
   "outputs": [],
   "source": [
    "df = pd.read_csv(\"../data/USNG_joined.csv\")"
   ]
  },
  {
   "cell_type": "code",
   "execution_count": null,
   "id": "a8eef97e-0e70-4e9c-85b2-034d3221232e",
   "metadata": {},
   "outputs": [],
   "source": [
    "df['USNGCoord']"
   ]
  },
  {
   "cell_type": "code",
   "execution_count": null,
   "id": "ebb13488-0c24-4b20-80d5-7ccb2cee8798",
   "metadata": {},
   "outputs": [],
   "source": [
    "df['easting'] = df['USNGCoord'].str.split().str[-2].astype('int')\n",
    "df['northing'] = df['USNGCoord'].str.split().str[-1].astype('int')"
   ]
  },
  {
   "cell_type": "code",
   "execution_count": null,
   "id": "f31f0923-bc28-4e9d-84cf-7162dc77529e",
   "metadata": {},
   "outputs": [],
   "source": [
    "east_min, east_max = df['easting'].min(), df['easting'].max()\n",
    "north_min, north_max = df['northing'].min(), df['northing'].max()"
   ]
  },
  {
   "cell_type": "markdown",
   "id": "8ab40751-38fc-40e0-98c5-e66cad5ed6f6",
   "metadata": {},
   "source": [
    "## Filter full data"
   ]
  },
  {
   "cell_type": "code",
   "execution_count": null,
   "id": "7f67b343-d1a7-4914-b0d3-bea2c2bd69b4",
   "metadata": {},
   "outputs": [],
   "source": [
    "# gdf_full = gpd.read_file('../data/US_National_Grid_HFL_V_7334664624376357600.zip')\n",
    "gdf_full = gpd.read_file('../data/USNG_reprojected.gpkg')"
   ]
  },
  {
   "cell_type": "code",
   "execution_count": null,
   "id": "02ab45e0-3c0a-4c5f-89b0-3217816845ad",
   "metadata": {},
   "outputs": [],
   "source": [
    "gdf_full[\"fill\"] = False\n",
    "gdf_full[\"isqr\"] = False"
   ]
  },
  {
   "cell_type": "code",
   "execution_count": null,
   "id": "3441e277-8c4f-4106-96d5-7cff8152cb7e",
   "metadata": {},
   "outputs": [],
   "source": [
    "gdf_full['easting'] = gdf_full['USNGCoord'].str.split().str[-2].astype('int')\n",
    "gdf_full['northing'] = gdf_full['USNGCoord'].str.split().str[-1].astype('int')"
   ]
  },
  {
   "cell_type": "code",
   "execution_count": null,
   "id": "64707611-e6f6-4b1f-8447-97e12fa14a56",
   "metadata": {},
   "outputs": [],
   "source": [
    "gdf_filtered = gdf_full[\n",
    "    (gdf_full['easting'] >= east_min) & (gdf_full['easting'] <= east_max) &\n",
    "    (gdf_full['northing'] >= north_min) & (gdf_full['northing'] <= north_max)\n",
    "]"
   ]
  },
  {
   "cell_type": "code",
   "execution_count": null,
   "id": "4a16cb9b-69be-422d-9499-a9c84dd06486",
   "metadata": {},
   "outputs": [],
   "source": [
    "gdf = gpd.GeoDataFrame(gdf_filtered)"
   ]
  },
  {
   "cell_type": "code",
   "execution_count": null,
   "id": "98aea017-d8af-4359-8c90-1689385a3035",
   "metadata": {},
   "outputs": [],
   "source": [
    "gdf = gdf.sort_values(\n",
    "    by=['easting', 'northing'],\n",
    "    ascending=[True, False])"
   ]
  },
  {
   "cell_type": "markdown",
   "id": "74ef0d10-db70-4c80-8e75-cfc7513282fd",
   "metadata": {},
   "source": [
    "## Reshape"
   ]
  },
  {
   "cell_type": "code",
   "execution_count": null,
   "id": "29345f4b-6b2e-4e14-b0bc-1d64907e8c02",
   "metadata": {},
   "outputs": [],
   "source": [
    "h = len(gdf['northing'].unique())\n",
    "w = len(gdf['easting'].unique())"
   ]
  },
  {
   "cell_type": "code",
   "execution_count": null,
   "id": "9d2fe232-693a-456a-808c-ffe8fec64e6b",
   "metadata": {},
   "outputs": [],
   "source": [
    "fill_array = gdf['fill'].values.reshape(w, h).T\n",
    "isqr_array = gdf['isqr'].values.reshape(w, h).T"
   ]
  },
  {
   "cell_type": "markdown",
   "id": "bc723e61-2395-444e-a93b-a2fd99f89f21",
   "metadata": {},
   "source": [
    "### Place QR inside grid"
   ]
  },
  {
   "cell_type": "code",
   "execution_count": null,
   "id": "d4922517-635d-444c-b520-0b2cf1ea4d44",
   "metadata": {},
   "outputs": [],
   "source": [
    "qr_arr = get_compact(QR_CODE)\n",
    "qr_arr.shape"
   ]
  },
  {
   "cell_type": "code",
   "execution_count": null,
   "id": "22e04434-7eaf-4a6a-858b-49abf3fd102b",
   "metadata": {},
   "outputs": [],
   "source": [
    "# make array same size as qr_arr but all True\n",
    "qr_size_arr = np.ones_like(qr_arr, dtype=bool)"
   ]
  },
  {
   "cell_type": "code",
   "execution_count": null,
   "id": "181361bf-38b0-427a-bd37-0fc45d39b444",
   "metadata": {},
   "outputs": [],
   "source": [
    "start_x, start_y = 30, 40"
   ]
  },
  {
   "cell_type": "code",
   "execution_count": null,
   "id": "9ac5b0d8-7732-4138-b98d-704669486ec4",
   "metadata": {},
   "outputs": [],
   "source": [
    "# add qr code to fill_array\n",
    "start_row, start_col = start_x, start_y\n",
    "fill_array[start_row:start_row+25, start_col:start_col+25] = qr_arr\n",
    "fill_array[start_row:start_row+25, start_col:start_col+25] = qr_arr\n",
    "\n",
    "# add qr_size_arr to isqr_array\n",
    "start_row, start_col = start_x, start_y  # example coordinates\n",
    "isqr_array[start_row:start_row+25, start_col:start_col+25] = qr_size_arr\n",
    "isqr_array[start_row:start_row+25, start_col:start_col+25] = qr_size_arr"
   ]
  },
  {
   "cell_type": "code",
   "execution_count": null,
   "id": "32c2092e-e215-4c4e-b0d4-44777e35171a",
   "metadata": {},
   "outputs": [],
   "source": [
    "# print_grid(fill_array)"
   ]
  },
  {
   "cell_type": "markdown",
   "id": "6eb7622e-28b8-4c4c-a960-d805bc695e4d",
   "metadata": {},
   "source": [
    "### Unshape again"
   ]
  },
  {
   "cell_type": "code",
   "execution_count": null,
   "id": "d1e6c38e-c7b6-480d-afe9-49fd432a24cf",
   "metadata": {},
   "outputs": [],
   "source": [
    "gdf['fill'] = fill_array.T.flatten()\n",
    "gdf['isqr'] = isqr_array.T.flatten()"
   ]
  },
  {
   "cell_type": "code",
   "execution_count": null,
   "id": "9635925b-b325-4399-a4c1-f70c9de7288c",
   "metadata": {},
   "outputs": [],
   "source": [
    "gdf.to_file('../out/USNG_QR.gpkg', driver='GeoJSON')"
   ]
  },
  {
   "cell_type": "code",
   "execution_count": null,
   "id": "4265a8e9-c731-437a-b6a3-8261ec1c36ce",
   "metadata": {},
   "outputs": [],
   "source": []
  },
  {
   "cell_type": "code",
   "execution_count": null,
   "id": "f2476d21-b495-4211-8272-b80f6bd66652",
   "metadata": {},
   "outputs": [],
   "source": []
  }
 ],
 "metadata": {
  "kernelspec": {
   "display_name": "Python 3 (ipykernel)",
   "language": "python",
   "name": "python3"
  },
  "language_info": {
   "codemirror_mode": {
    "name": "ipython",
    "version": 3
   },
   "file_extension": ".py",
   "mimetype": "text/x-python",
   "name": "python",
   "nbconvert_exporter": "python",
   "pygments_lexer": "ipython3",
   "version": "3.13.1"
  }
 },
 "nbformat": 4,
 "nbformat_minor": 5
}
