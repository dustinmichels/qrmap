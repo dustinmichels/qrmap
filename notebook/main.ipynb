{
 "cells": [
  {
   "cell_type": "code",
   "execution_count": 1,
   "id": "a8f39fb7-2c0c-4075-bf6a-0f6ccaef6b8f",
   "metadata": {},
   "outputs": [],
   "source": [
    "%load_ext autoreload\n",
    "%autoreload 2"
   ]
  },
  {
   "cell_type": "code",
   "execution_count": 2,
   "id": "ef1a6e29-b8b3-45ae-b7ea-68ac46a32e37",
   "metadata": {},
   "outputs": [],
   "source": [
    "import sys; sys.path.insert(0, '..')"
   ]
  },
  {
   "cell_type": "code",
   "execution_count": 3,
   "id": "ad92668d-4e49-4d7f-99a7-a3890bc039fc",
   "metadata": {},
   "outputs": [],
   "source": [
    "import pandas as pd\n",
    "import numpy as np\n",
    "import geopandas as gpd\n",
    "from qr_code import QR_CODE, get_compact"
   ]
  },
  {
   "cell_type": "code",
   "execution_count": 4,
   "id": "db4efc02-8293-47ab-b12c-2f49099218d6",
   "metadata": {},
   "outputs": [],
   "source": [
    "def print_grid(arr):\n",
    "    black_square = \"█\"       # U+2B1B - BLACK LARGE SQUARE\n",
    "    white_square = \" \"       # U+2B1C - WHITE LARGE SQUARE\n",
    "    return [''.join(np.where(row, black_square, white_square)) for row in arr]"
   ]
  },
  {
   "cell_type": "code",
   "execution_count": null,
   "id": "ca01625c-82c4-49b3-a259-8be0285b7a1e",
   "metadata": {},
   "outputs": [],
   "source": []
  },
  {
   "cell_type": "markdown",
   "id": "6969c310-8160-47b4-bedf-08680cdde5fc",
   "metadata": {},
   "source": [
    "## Load"
   ]
  },
  {
   "cell_type": "code",
   "execution_count": 35,
   "id": "41ad0dc1-3221-48d1-b9af-1ce959d39d67",
   "metadata": {},
   "outputs": [],
   "source": [
    "# gdf = gpd.read_file('data/150m_grid.geojson')\n",
    "gdf = gpd.read_file('../data/usng_clipped.geojson')"
   ]
  },
  {
   "cell_type": "code",
   "execution_count": 36,
   "id": "17a81b87-3423-4c82-9b03-af415a2c9453",
   "metadata": {},
   "outputs": [],
   "source": [
    "gdf[\"fill\"] = False\n",
    "gdf[\"isqr\"] = False"
   ]
  },
  {
   "cell_type": "code",
   "execution_count": 54,
   "id": "68f82c86-a439-4a7f-9401-c12a073e0708",
   "metadata": {},
   "outputs": [],
   "source": [
    "df = pd.DataFrame(gdf.drop('geometry', axis=1))"
   ]
  },
  {
   "cell_type": "markdown",
   "id": "ba0b0f22-40fa-4ef3-bfa3-e90c24c6e47c",
   "metadata": {},
   "source": [
    "### Make Square"
   ]
  },
  {
   "cell_type": "code",
   "execution_count": 55,
   "id": "72886845-6416-409a-9e2c-3e470c52c152",
   "metadata": {},
   "outputs": [],
   "source": [
    "df['easting'] = gdf['USNGCoord'].str.split().str[-2].astype('int')\n",
    "df['northing'] = gdf['USNGCoord'].str.split().str[-1].astype('int')"
   ]
  },
  {
   "cell_type": "code",
   "execution_count": 56,
   "id": "487a41eb-9c1d-421e-adcd-83456905d3f0",
   "metadata": {},
   "outputs": [
    {
     "data": {
      "text/plain": [
       "array([220, 221, 222, 223, 224, 225, 226, 227, 228, 229, 230, 231, 232,\n",
       "       233, 234, 235, 236, 237, 238, 239, 240, 241, 242, 243, 244, 245,\n",
       "       246, 247, 248, 249, 250, 251, 252, 253, 254, 255, 256, 257, 258,\n",
       "       259, 260, 261, 262, 263, 264, 265, 266, 267, 268, 269, 270, 271,\n",
       "       272, 273, 274, 275, 276, 277, 278, 279, 280, 281, 282, 283, 284,\n",
       "       285, 286, 287, 288, 289, 290, 291, 292, 293, 294, 295, 296, 297,\n",
       "       298, 299, 300, 301, 302])"
      ]
     },
     "execution_count": 56,
     "metadata": {},
     "output_type": "execute_result"
    }
   ],
   "source": [
    "df['easting'].sort_values().unique()"
   ]
  },
  {
   "cell_type": "code",
   "execution_count": 57,
   "id": "b73fa260-691e-4940-acb0-7738e712a36a",
   "metadata": {},
   "outputs": [
    {
     "data": {
      "text/html": [
       "<div>\n",
       "<style scoped>\n",
       "    .dataframe tbody tr th:only-of-type {\n",
       "        vertical-align: middle;\n",
       "    }\n",
       "\n",
       "    .dataframe tbody tr th {\n",
       "        vertical-align: top;\n",
       "    }\n",
       "\n",
       "    .dataframe thead th {\n",
       "        text-align: right;\n",
       "    }\n",
       "</style>\n",
       "<table border=\"1\" class=\"dataframe\">\n",
       "  <thead>\n",
       "    <tr style=\"text-align: right;\">\n",
       "      <th></th>\n",
       "      <th>fid</th>\n",
       "      <th>GZD</th>\n",
       "      <th>SQID</th>\n",
       "      <th>USNGCoord</th>\n",
       "      <th>Place</th>\n",
       "      <th>Region</th>\n",
       "      <th>fill</th>\n",
       "      <th>isqr</th>\n",
       "      <th>easting</th>\n",
       "      <th>northing</th>\n",
       "    </tr>\n",
       "  </thead>\n",
       "  <tbody>\n",
       "    <tr>\n",
       "      <th>0</th>\n",
       "      <td>9727</td>\n",
       "      <td>19T</td>\n",
       "      <td>CG</td>\n",
       "      <td>19T CG 222 913</td>\n",
       "      <td>Boston MA</td>\n",
       "      <td>Eastern</td>\n",
       "      <td>False</td>\n",
       "      <td>False</td>\n",
       "      <td>222</td>\n",
       "      <td>913</td>\n",
       "    </tr>\n",
       "    <tr>\n",
       "      <th>1</th>\n",
       "      <td>9726</td>\n",
       "      <td>19T</td>\n",
       "      <td>CG</td>\n",
       "      <td>19T CG 222 911</td>\n",
       "      <td>Boston MA</td>\n",
       "      <td>Eastern</td>\n",
       "      <td>False</td>\n",
       "      <td>False</td>\n",
       "      <td>222</td>\n",
       "      <td>911</td>\n",
       "    </tr>\n",
       "    <tr>\n",
       "      <th>2</th>\n",
       "      <td>9736</td>\n",
       "      <td>19T</td>\n",
       "      <td>CG</td>\n",
       "      <td>19T CG 223 913</td>\n",
       "      <td>Boston MA</td>\n",
       "      <td>Eastern</td>\n",
       "      <td>False</td>\n",
       "      <td>False</td>\n",
       "      <td>223</td>\n",
       "      <td>913</td>\n",
       "    </tr>\n",
       "    <tr>\n",
       "      <th>3</th>\n",
       "      <td>1575</td>\n",
       "      <td>19T</td>\n",
       "      <td>CG</td>\n",
       "      <td>19T CG 223 912</td>\n",
       "      <td>Boston MA</td>\n",
       "      <td>Eastern</td>\n",
       "      <td>False</td>\n",
       "      <td>False</td>\n",
       "      <td>223</td>\n",
       "      <td>912</td>\n",
       "    </tr>\n",
       "    <tr>\n",
       "      <th>4</th>\n",
       "      <td>9744</td>\n",
       "      <td>19T</td>\n",
       "      <td>CG</td>\n",
       "      <td>19T CG 224 913</td>\n",
       "      <td>Boston MA</td>\n",
       "      <td>Eastern</td>\n",
       "      <td>False</td>\n",
       "      <td>False</td>\n",
       "      <td>224</td>\n",
       "      <td>913</td>\n",
       "    </tr>\n",
       "    <tr>\n",
       "      <th>...</th>\n",
       "      <td>...</td>\n",
       "      <td>...</td>\n",
       "      <td>...</td>\n",
       "      <td>...</td>\n",
       "      <td>...</td>\n",
       "      <td>...</td>\n",
       "      <td>...</td>\n",
       "      <td>...</td>\n",
       "      <td>...</td>\n",
       "      <td>...</td>\n",
       "    </tr>\n",
       "    <tr>\n",
       "      <th>5955</th>\n",
       "      <td>3746</td>\n",
       "      <td>19T</td>\n",
       "      <td>CG</td>\n",
       "      <td>19T CG 297 957</td>\n",
       "      <td>Boston MA</td>\n",
       "      <td>Eastern</td>\n",
       "      <td>False</td>\n",
       "      <td>False</td>\n",
       "      <td>297</td>\n",
       "      <td>957</td>\n",
       "    </tr>\n",
       "    <tr>\n",
       "      <th>5956</th>\n",
       "      <td>3754</td>\n",
       "      <td>19T</td>\n",
       "      <td>CG</td>\n",
       "      <td>19T CG 298 957</td>\n",
       "      <td>Boston MA</td>\n",
       "      <td>Eastern</td>\n",
       "      <td>False</td>\n",
       "      <td>False</td>\n",
       "      <td>298</td>\n",
       "      <td>957</td>\n",
       "    </tr>\n",
       "    <tr>\n",
       "      <th>5957</th>\n",
       "      <td>19246</td>\n",
       "      <td>19T</td>\n",
       "      <td>CG</td>\n",
       "      <td>19T CG 295 956</td>\n",
       "      <td>Boston MA</td>\n",
       "      <td>Eastern</td>\n",
       "      <td>False</td>\n",
       "      <td>False</td>\n",
       "      <td>295</td>\n",
       "      <td>956</td>\n",
       "    </tr>\n",
       "    <tr>\n",
       "      <th>5958</th>\n",
       "      <td>19253</td>\n",
       "      <td>19T</td>\n",
       "      <td>CG</td>\n",
       "      <td>19T CG 296 956</td>\n",
       "      <td>Boston MA</td>\n",
       "      <td>Eastern</td>\n",
       "      <td>False</td>\n",
       "      <td>False</td>\n",
       "      <td>296</td>\n",
       "      <td>956</td>\n",
       "    </tr>\n",
       "    <tr>\n",
       "      <th>5959</th>\n",
       "      <td>19261</td>\n",
       "      <td>19T</td>\n",
       "      <td>CG</td>\n",
       "      <td>19T CG 297 956</td>\n",
       "      <td>Boston MA</td>\n",
       "      <td>Eastern</td>\n",
       "      <td>False</td>\n",
       "      <td>False</td>\n",
       "      <td>297</td>\n",
       "      <td>956</td>\n",
       "    </tr>\n",
       "  </tbody>\n",
       "</table>\n",
       "<p>5892 rows × 10 columns</p>\n",
       "</div>"
      ],
      "text/plain": [
       "        fid  GZD SQID       USNGCoord      Place   Region   fill   isqr  \\\n",
       "0      9727  19T   CG  19T CG 222 913  Boston MA  Eastern  False  False   \n",
       "1      9726  19T   CG  19T CG 222 911  Boston MA  Eastern  False  False   \n",
       "2      9736  19T   CG  19T CG 223 913  Boston MA  Eastern  False  False   \n",
       "3      1575  19T   CG  19T CG 223 912  Boston MA  Eastern  False  False   \n",
       "4      9744  19T   CG  19T CG 224 913  Boston MA  Eastern  False  False   \n",
       "...     ...  ...  ...             ...        ...      ...    ...    ...   \n",
       "5955   3746  19T   CG  19T CG 297 957  Boston MA  Eastern  False  False   \n",
       "5956   3754  19T   CG  19T CG 298 957  Boston MA  Eastern  False  False   \n",
       "5957  19246  19T   CG  19T CG 295 956  Boston MA  Eastern  False  False   \n",
       "5958  19253  19T   CG  19T CG 296 956  Boston MA  Eastern  False  False   \n",
       "5959  19261  19T   CG  19T CG 297 956  Boston MA  Eastern  False  False   \n",
       "\n",
       "      easting  northing  \n",
       "0         222       913  \n",
       "1         222       911  \n",
       "2         223       913  \n",
       "3         223       912  \n",
       "4         224       913  \n",
       "...       ...       ...  \n",
       "5955      297       957  \n",
       "5956      298       957  \n",
       "5957      295       956  \n",
       "5958      296       956  \n",
       "5959      297       956  \n",
       "\n",
       "[5892 rows x 10 columns]"
      ]
     },
     "execution_count": 57,
     "metadata": {},
     "output_type": "execute_result"
    }
   ],
   "source": [
    "df[df['easting'] >= 222]"
   ]
  },
  {
   "cell_type": "code",
   "execution_count": null,
   "id": "a78baf40-85e7-479a-94b6-84023b45e8a1",
   "metadata": {},
   "outputs": [],
   "source": []
  },
  {
   "cell_type": "code",
   "execution_count": null,
   "id": "adbb94ed-fbfe-454e-a35e-a56eba82a6df",
   "metadata": {},
   "outputs": [],
   "source": []
  },
  {
   "cell_type": "markdown",
   "id": "96e817c0-50f9-4114-9bd5-5239223a3ba1",
   "metadata": {},
   "source": [
    "## Reshape grid"
   ]
  },
  {
   "cell_type": "code",
   "execution_count": 8,
   "id": "527aec89-973a-4e4e-84de-06025d0c6cd7",
   "metadata": {},
   "outputs": [
    {
     "data": {
      "text/plain": [
       "(5960, 9)"
      ]
     },
     "execution_count": 8,
     "metadata": {},
     "output_type": "execute_result"
    }
   ],
   "source": [
    "gdf.shape"
   ]
  },
  {
   "cell_type": "code",
   "execution_count": 9,
   "id": "d59fad59-ccfb-42d7-a003-f8e8e86c0d75",
   "metadata": {},
   "outputs": [],
   "source": [
    "w, h = 53, 49"
   ]
  },
  {
   "cell_type": "code",
   "execution_count": 10,
   "id": "0142d623-3630-451f-899a-7e86375a85f3",
   "metadata": {},
   "outputs": [
    {
     "ename": "ValueError",
     "evalue": "cannot reshape array of size 5960 into shape (53,49)",
     "output_type": "error",
     "traceback": [
      "\u001b[31m---------------------------------------------------------------------------\u001b[39m",
      "\u001b[31mValueError\u001b[39m                                Traceback (most recent call last)",
      "\u001b[36mCell\u001b[39m\u001b[36m \u001b[39m\u001b[32mIn[10]\u001b[39m\u001b[32m, line 1\u001b[39m\n\u001b[32m----> \u001b[39m\u001b[32m1\u001b[39m fill_array = \u001b[43mgdf\u001b[49m\u001b[43m[\u001b[49m\u001b[33;43m'\u001b[39;49m\u001b[33;43mfill\u001b[39;49m\u001b[33;43m'\u001b[39;49m\u001b[43m]\u001b[49m\u001b[43m.\u001b[49m\u001b[43mvalues\u001b[49m\u001b[43m.\u001b[49m\u001b[43mreshape\u001b[49m\u001b[43m(\u001b[49m\u001b[43mw\u001b[49m\u001b[43m,\u001b[49m\u001b[43m \u001b[49m\u001b[43mh\u001b[49m\u001b[43m)\u001b[49m.T\n\u001b[32m      2\u001b[39m isqr_array = gdf[\u001b[33m'\u001b[39m\u001b[33misqr\u001b[39m\u001b[33m'\u001b[39m].values.reshape(w, h).T\n",
      "\u001b[31mValueError\u001b[39m: cannot reshape array of size 5960 into shape (53,49)"
     ]
    }
   ],
   "source": [
    "fill_array = gdf['fill'].values.reshape(w, h).T\n",
    "isqr_array = gdf['isqr'].values.reshape(w, h).T"
   ]
  },
  {
   "cell_type": "markdown",
   "id": "389c2bc2-3035-4195-91fd-d556f9e07ddb",
   "metadata": {},
   "source": [
    "## Place QR code inside grid"
   ]
  },
  {
   "cell_type": "code",
   "execution_count": 10,
   "id": "93bb2536-4851-4717-9847-7ea72bd3c4b0",
   "metadata": {},
   "outputs": [
    {
     "data": {
      "text/plain": [
       "(25, 25)"
      ]
     },
     "execution_count": 10,
     "metadata": {},
     "output_type": "execute_result"
    }
   ],
   "source": [
    "qr_arr = get_compact(QR_CODE)\n",
    "qr_arr.shape"
   ]
  },
  {
   "cell_type": "code",
   "execution_count": 11,
   "id": "1795d125-5798-4038-a196-f6ea9f7de077",
   "metadata": {},
   "outputs": [],
   "source": [
    "# make array same size as qr_arr but all True\n",
    "qr_size_arr = np.ones_like(qr_arr, dtype=bool)"
   ]
  },
  {
   "cell_type": "code",
   "execution_count": 12,
   "id": "6c4d6f7e-5703-498f-8855-77bd80ba9cd3",
   "metadata": {},
   "outputs": [],
   "source": [
    "start_x, start_y = 10, 10"
   ]
  },
  {
   "cell_type": "code",
   "execution_count": 13,
   "id": "eaeb7673-8701-438b-9b80-4d8bb43f2f16",
   "metadata": {},
   "outputs": [],
   "source": [
    "# add qr code to fill_array\n",
    "start_row, start_col = start_x, start_y  # example coordinates\n",
    "fill_array[start_row:start_row+25, start_col:start_col+25] = qr_arr\n",
    "fill_array[start_row:start_row+25, start_col:start_col+25] = qr_arr"
   ]
  },
  {
   "cell_type": "code",
   "execution_count": 14,
   "id": "eb20e192-8cd5-4220-8152-5c53d83f9758",
   "metadata": {},
   "outputs": [
    {
     "data": {
      "text/plain": [
       "['                                                     ',\n",
       " '                                                     ',\n",
       " '                                                     ',\n",
       " '                                                     ',\n",
       " '                                                     ',\n",
       " '                                                     ',\n",
       " '                                                     ',\n",
       " '                                                     ',\n",
       " '                                                     ',\n",
       " '                                                     ',\n",
       " '          ███████   ██ ███  ███████                  ',\n",
       " '          █     █ █████  █  █     █                  ',\n",
       " '          █ ███ █ █  █   ██ █ ███ █                  ',\n",
       " '          █ ███ █   █   ██  █ ███ █                  ',\n",
       " '          █ ███ █ █ ██ ████ █ ███ █                  ',\n",
       " '          █     █ ██   █ ██ █     █                  ',\n",
       " '          ███████ █ █ █ █ █ ███████                  ',\n",
       " '                  ███   ███                          ',\n",
       " '          ██ █  ██  ██ ████ ███ ██                   ',\n",
       " '          ██████ ██   █   █ █     █                  ',\n",
       " '            █  ██  ██  █  █████  ██                  ',\n",
       " '             ███ █     █████  █                      ',\n",
       " '           ███  █ █    █ ████  █ ██                  ',\n",
       " '            █ █  █ ██ █ █   ██ ██ █                  ',\n",
       " '          █  █ ██ █  █ █  █████ █ █                  ',\n",
       " '           █ ███ ███  ███ █ █ █  █                   ',\n",
       " '          ██   ██    ██ █████████                    ',\n",
       " '                  ████  ███   ██  █                  ',\n",
       " '          ███████ █ █  █ ██ █ ██ ██                  ',\n",
       " '          █     █    ██   █   ███ █                  ',\n",
       " '          █ ███ █     ███ ██████                     ',\n",
       " '          █ ███ █ █ █ ██     ████                    ',\n",
       " '          █ ███ █       █ ██ ██ █ █                  ',\n",
       " '          █     █ █ ████ ███   █                     ',\n",
       " '          ███████ █ ████ ██ ██   ██                  ',\n",
       " '                                                     ',\n",
       " '                                                     ',\n",
       " '                                                     ',\n",
       " '                                                     ',\n",
       " '                                                     ',\n",
       " '                                                     ',\n",
       " '                                                     ',\n",
       " '                                                     ',\n",
       " '                                                     ',\n",
       " '                                                     ',\n",
       " '                                                     ',\n",
       " '                                                     ',\n",
       " '                                                     ',\n",
       " '                                                     ']"
      ]
     },
     "execution_count": 14,
     "metadata": {},
     "output_type": "execute_result"
    }
   ],
   "source": [
    "print_grid(fill_array)"
   ]
  },
  {
   "cell_type": "code",
   "execution_count": 15,
   "id": "4220b2d6-d75d-48f5-bdf2-7a174525fa09",
   "metadata": {},
   "outputs": [],
   "source": [
    "# # add qr code to fill_array\n",
    "# start_row, start_col = 30, 40  # example coordinates\n",
    "# fill_array[start_row:start_row+25, start_col:start_col+25] = qr_arr\n",
    "# fill_array[start_row:start_row+25, start_col:start_col+25] = qr_arr"
   ]
  },
  {
   "cell_type": "code",
   "execution_count": 16,
   "id": "48a41bd8-6b2b-4639-9c60-86fa87bedbfe",
   "metadata": {},
   "outputs": [],
   "source": [
    "# add qr_size_arr to isqr_array\n",
    "start_row, start_col = start_x, start_y  # example coordinates\n",
    "isqr_array[start_row:start_row+25, start_col:start_col+25] = qr_size_arr\n",
    "isqr_array[start_row:start_row+25, start_col:start_col+25] = qr_size_arr"
   ]
  },
  {
   "cell_type": "code",
   "execution_count": 18,
   "id": "b7e54849-6382-463e-99b3-44939cf754e8",
   "metadata": {
    "scrolled": true
   },
   "outputs": [],
   "source": [
    "# print_grid(fill_array)"
   ]
  },
  {
   "cell_type": "code",
   "execution_count": 19,
   "id": "ea1ebf1c-2bbf-4b3e-9bf2-4144c983ecc4",
   "metadata": {},
   "outputs": [],
   "source": [
    "# print_grid(isqr_array)"
   ]
  },
  {
   "cell_type": "markdown",
   "id": "cee50418-7862-40bf-b094-89b0545516b3",
   "metadata": {},
   "source": [
    "## Un-reshape"
   ]
  },
  {
   "cell_type": "code",
   "execution_count": 20,
   "id": "64e6ac32-cbf8-4788-b8ef-a823df9c9428",
   "metadata": {},
   "outputs": [],
   "source": [
    "gdf['fill'] = fill_array.T.flatten()\n",
    "gdf['isqr'] = isqr_array.T.flatten()"
   ]
  },
  {
   "cell_type": "code",
   "execution_count": 21,
   "id": "f0edd617-f221-4756-a4d8-dc095ac325b6",
   "metadata": {},
   "outputs": [],
   "source": [
    "gdf.to_file('out/output.geojson', driver='GeoJSON')"
   ]
  },
  {
   "cell_type": "code",
   "execution_count": null,
   "id": "d5446afe-7847-46cd-a652-80a94b179f5a",
   "metadata": {},
   "outputs": [],
   "source": []
  },
  {
   "cell_type": "code",
   "execution_count": null,
   "id": "0e42d5dd-6d64-4893-a8a2-3af584fa0330",
   "metadata": {},
   "outputs": [],
   "source": []
  },
  {
   "cell_type": "code",
   "execution_count": null,
   "id": "fefd8b35-a452-4576-92cd-6c58b495f162",
   "metadata": {},
   "outputs": [],
   "source": []
  },
  {
   "cell_type": "code",
   "execution_count": null,
   "id": "6587fc74-a29c-4c85-bd58-d90e49e6217e",
   "metadata": {},
   "outputs": [],
   "source": []
  }
 ],
 "metadata": {
  "kernelspec": {
   "display_name": "Python 3 (ipykernel)",
   "language": "python",
   "name": "python3"
  },
  "language_info": {
   "codemirror_mode": {
    "name": "ipython",
    "version": 3
   },
   "file_extension": ".py",
   "mimetype": "text/x-python",
   "name": "python",
   "nbconvert_exporter": "python",
   "pygments_lexer": "ipython3",
   "version": "3.13.1"
  }
 },
 "nbformat": 4,
 "nbformat_minor": 5
}
